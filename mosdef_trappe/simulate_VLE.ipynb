{
 "cells": [
  {
   "cell_type": "markdown",
   "metadata": {},
   "source": [
    "# Simulate a single VLE point using GOMC in GEMC\n",
    "\n",
    "This notebook covers building, simulating, and analyzing a GOMC GEMC simulation"
   ]
  },
  {
   "cell_type": "markdown",
   "metadata": {},
   "source": [
    "# Build"
   ]
  },
  {
   "cell_type": "code",
   "execution_count": 8,
   "metadata": {},
   "outputs": [
    {
     "name": "stderr",
     "output_type": "stream",
     "text": [
      "/Users/ayang41/Programs/mbuild/mbuild/compound.py:2410: UserWarning: Guessing that \"<CH3 pos=( 2.2350, 2.7578, 1.2698), 0 bonds, id: 4820899376>\" is element: \"C\"\n",
      "  atom, element))\n",
      "/Users/ayang41/Programs/mbuild/mbuild/compound.py:2410: UserWarning: Guessing that \"<_CH3 pos=( 30.1348, 17.7809, 50.5686), 0 bonds, id: 4476139392>\" is element: \"EP\"\n",
      "  atom, element))\n",
      "/Users/ayang41/Programs/mbuild/mbuild/compound.py:2410: UserWarning: Guessing that \"<_CH3 pos=( 4.8378, 2.7429, 8.1212), 0 bonds, id: 4939419040>\" is element: \"EP\"\n",
      "  atom, element))\n"
     ]
    }
   ],
   "source": [
    "import unyt as u\n",
    "\n",
    "from mosdef_trappe.driver import build\n",
    "from mosdef_trappe.molecules.propane.propane import Propane\n",
    "import mosdef_trappe.gomc_util.gomc_functions as gomc_functions\n",
    "\n",
    "\n",
    "temperature = 256 * u.Kelvin\n",
    "rho_vap = 0.002*u.g/u.cm**3\n",
    "rho_liq = 0.469*u.g/u.cm**3\n",
    "n_compounds = 5000\n",
    "\n",
    "cmpd = Propane()\n",
    "vapor_box = build(cmpd, n_compounds=n_compounds, density=rho_vap,\n",
    "                 ff='ff/TraPPE_UA_3_fully_flexible_propane.xml')\n",
    "liquid_box = build(cmpd, n_compounds=n_compounds, density=rho_liq,\n",
    "              ff='ff/TraPPE_UA_3_fully_flexible_propane.xml')"
   ]
  },
  {
   "cell_type": "markdown",
   "metadata": {},
   "source": [
    "# Simulate"
   ]
  },
  {
   "cell_type": "code",
   "execution_count": null,
   "metadata": {},
   "outputs": [],
   "source": [
    "p = gomc_functions.simulate(structure, second,\n",
    "        temperature=300*u.Kelvin,\n",
    "        n_steps=5000000)"
   ]
  },
  {
   "cell_type": "markdown",
   "metadata": {},
   "source": [
    "# Analyze\n"
   ]
  },
  {
   "cell_type": "code",
   "execution_count": 9,
   "metadata": {},
   "outputs": [],
   "source": [
    "vapor_df = gomc_functions.dat_to_df('Blk_output_BOX_0.dat')\n",
    "liquid_df = gomc_functions.dat_to_df('Blk_output_BOX_1.dat')"
   ]
  }
 ],
 "metadata": {
  "kernelspec": {
   "display_name": "Python 3",
   "language": "python",
   "name": "python3"
  },
  "language_info": {
   "codemirror_mode": {
    "name": "ipython",
    "version": 3
   },
   "file_extension": ".py",
   "mimetype": "text/x-python",
   "name": "python",
   "nbconvert_exporter": "python",
   "pygments_lexer": "ipython3",
   "version": "3.6.7"
  }
 },
 "nbformat": 4,
 "nbformat_minor": 2
}
